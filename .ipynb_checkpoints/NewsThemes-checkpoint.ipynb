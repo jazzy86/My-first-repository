{
 "cells": [
  {
   "cell_type": "code",
   "execution_count": 19,
   "metadata": {},
   "outputs": [
    {
     "name": "stdout",
     "output_type": "stream",
     "text": [
      "{'starlife': 13, 'world': 9, 'latest': 2, 'incidents': 6, 'politics': 11, 'business': 5, 'moscow_city': 1, 'head': 3, 'science': 6, 'video': 10, 'sport': 3, 'middleeast': 3, 'economics': 3, 'travel': 1, 'health': 2, 'cis': 4, 'crazy-world': 2, 'auto': 1, 'scitech': 1, 'lifestyle': 2, 'articles': 7, 'finances': 1, 'europe': 1, 'kinomusic': 1}\n"
     ]
    }
   ],
   "source": [
    "with open('urls.txt', 'r') as f:\n",
    "    dict={}\n",
    "    for line in f:\n",
    "        key=''\n",
    "        for i in line.strip().lstrip('/'):\n",
    "            if i=='/' or i==' ' or i=='?':\n",
    "                break\n",
    "            else:\n",
    "                key=key+i\n",
    "        if key in dict:\n",
    "            dict[key]+=1\n",
    "        elif key!='':\n",
    "            dict[key]=1\n",
    "    print(dict)\n",
    "\n",
    "    "
   ]
  },
  {
   "cell_type": "code",
   "execution_count": null,
   "metadata": {},
   "outputs": [],
   "source": []
  }
 ],
 "metadata": {
  "kernelspec": {
   "display_name": "Python 3",
   "language": "python",
   "name": "python3"
  },
  "language_info": {
   "codemirror_mode": {
    "name": "ipython",
    "version": 3
   },
   "file_extension": ".py",
   "mimetype": "text/x-python",
   "name": "python",
   "nbconvert_exporter": "python",
   "pygments_lexer": "ipython3",
   "version": "3.7.6"
  }
 },
 "nbformat": 4,
 "nbformat_minor": 4
}
