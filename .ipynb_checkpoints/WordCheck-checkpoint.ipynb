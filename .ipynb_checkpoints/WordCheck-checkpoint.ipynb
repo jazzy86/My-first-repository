{
 "cells": [
  {
   "cell_type": "code",
   "execution_count": 13,
   "metadata": {
    "scrolled": false
   },
   "outputs": [
    {
     "name": "stdout",
     "output_type": "stream",
     "text": [
      "аир\n",
      "амин\n",
      "АН\n",
      "ар\n",
      "Арина\n",
      "АРМ\n",
      "Арм\n",
      "Ира\n",
      "Иран\n",
      "мА\n",
      "маар\n",
      "мара\n",
      "Мари\n",
      "мари\n",
      "ми\n",
      "Мина\n",
      "мина\n",
      "мир\n",
      "на\n",
      "НАИ\n",
      "ни\n",
      "рама\n",
      "РАН\n",
      "рана\n",
      "РИА\n",
      "Рим\n",
      "26\n",
      "Wall time: 889 ms\n"
     ]
    }
   ],
   "source": [
    "%%time\n",
    "with open('pldf-win.txt', 'r') as f:\n",
    "    count = 0\n",
    "    assy='марина'\n",
    "    for line in f:\n",
    "        word = assy\n",
    "        being = True\n",
    "        for i in line.lower().strip():\n",
    "            if i not in word:\n",
    "                being = False\n",
    "            if i in word:\n",
    "                word=word.replace(i,'',1)\n",
    "        if being and len(line.strip())>1 and line.lower().strip()!=assy:\n",
    "            count+=1\n",
    "            print(line.strip())\n",
    "    print(count)"
   ]
  },
  {
   "cell_type": "code",
   "execution_count": null,
   "metadata": {},
   "outputs": [],
   "source": []
  },
  {
   "cell_type": "code",
   "execution_count": null,
   "metadata": {},
   "outputs": [],
   "source": []
  },
  {
   "cell_type": "code",
   "execution_count": null,
   "metadata": {},
   "outputs": [],
   "source": []
  },
  {
   "cell_type": "code",
   "execution_count": null,
   "metadata": {},
   "outputs": [],
   "source": []
  }
 ],
 "metadata": {
  "kernelspec": {
   "display_name": "Python 3",
   "language": "python",
   "name": "python3"
  },
  "language_info": {
   "codemirror_mode": {
    "name": "ipython",
    "version": 3
   },
   "file_extension": ".py",
   "mimetype": "text/x-python",
   "name": "python",
   "nbconvert_exporter": "python",
   "pygments_lexer": "ipython3",
   "version": "3.7.6"
  }
 },
 "nbformat": 4,
 "nbformat_minor": 4
}
